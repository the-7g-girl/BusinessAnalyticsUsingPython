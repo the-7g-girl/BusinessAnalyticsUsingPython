{
  "nbformat": 4,
  "nbformat_minor": 0,
  "metadata": {
    "colab": {
      "provenance": []
    },
    "kernelspec": {
      "name": "python3",
      "display_name": "Python 3"
    },
    "language_info": {
      "name": "python"
    }
  },
  "cells": [
    {
      "cell_type": "code",
      "execution_count": null,
      "metadata": {
        "id": "zAUQKp_3raMk"
      },
      "outputs": [],
      "source": [
        "import pandas as pd\n",
        "import numpy as np\n",
        "import matplotlib.pyplot as plt\n",
        "import seaborn as sns\n",
        "from sklearn.model_selection import train_test_split\n",
        "from sklearn.preprocessing import StandardScaler\n",
        "from sklearn.linear_model import LogisticRegression\n"
      ]
    },
    {
      "cell_type": "code",
      "source": [
        "df=pd.read_csv(\"/content/music_data (2)\")\n",
        "df"
      ],
      "metadata": {
        "colab": {
          "base_uri": "https://localhost:8080/",
          "height": 487
        },
        "id": "W7Nduvyzr41Z",
        "outputId": "d62f0e9c-a69c-4ffc-fe88-bc0071173220"
      },
      "execution_count": null,
      "outputs": [
        {
          "output_type": "execute_result",
          "data": {
            "text/plain": [
              "      length  chroma_stft_mean  chroma_stft_var  rms_mean   rms_var  \\\n",
              "0      66149          0.335406         0.091048  0.130405  0.003521   \n",
              "1      66149          0.343065         0.086147  0.112699  0.001450   \n",
              "2      66149          0.346815         0.092243  0.132003  0.004620   \n",
              "3      66149          0.363639         0.086856  0.132565  0.002448   \n",
              "4      66149          0.335579         0.088129  0.143289  0.001701   \n",
              "...      ...               ...              ...       ...       ...   \n",
              "9985   66149          0.349126         0.080515  0.050019  0.000097   \n",
              "9986   66149          0.372564         0.082626  0.057897  0.000088   \n",
              "9987   66149          0.347481         0.089019  0.052403  0.000701   \n",
              "9988   66149          0.387527         0.084815  0.066430  0.000320   \n",
              "9989   66149          0.369293         0.086759  0.050524  0.000067   \n",
              "\n",
              "      spectral_centroid_mean  spectral_centroid_var  spectral_bandwidth_mean  \\\n",
              "0                1773.065032           167541.63090              1972.744388   \n",
              "1                1816.693777            90525.69087              2010.051501   \n",
              "2                1788.539719           111407.43760              2084.565132   \n",
              "3                1655.289045           111952.28450              1960.039988   \n",
              "4                1630.656199            79667.26765              1948.503884   \n",
              "...                      ...                    ...                      ...   \n",
              "9985             1499.083005           164266.88640              1718.707215   \n",
              "9986             1847.965128           281054.93600              1906.468492   \n",
              "9987             1346.157659           662956.24630              1561.859087   \n",
              "9988             2084.515327           203891.03920              2018.366254   \n",
              "9989             1634.330126           411429.16980              1867.422378   \n",
              "\n",
              "      spectral_bandwidth_var  rolloff_mean  ...  mfcc16_var  mfcc17_mean  \\\n",
              "0               117335.77160   3714.560359  ...   39.687145    -3.241280   \n",
              "1                65671.87567   3869.682242  ...   64.748276    -6.055294   \n",
              "2                75124.92172   3997.639160  ...   67.336563    -1.768610   \n",
              "3                82913.63927   3568.300218  ...   47.739452    -3.841155   \n",
              "4                60204.02027   3469.992864  ...   30.336359     0.664582   \n",
              "...                      ...           ...  ...         ...          ...   \n",
              "9985             85931.57452   3015.559458  ...   42.485981    -9.094270   \n",
              "9986             99727.03705   3746.694524  ...   32.415203   -12.375726   \n",
              "9987            138762.84190   2442.362154  ...   78.228149    -2.524483   \n",
              "9988             22860.99256   4313.266226  ...   28.323744    -5.363541   \n",
              "9989            119722.21150   3462.042142  ...   38.801735   -11.598399   \n",
              "\n",
              "      mfcc17_var  mfcc18_mean  mfcc18_var  mfcc19_mean  mfcc19_var  \\\n",
              "0      36.488243     0.722209   38.099152    -5.050335   33.618073   \n",
              "1      40.677654     0.159015   51.264091    -2.837699   97.030830   \n",
              "2      28.348579     2.378768   45.717648    -1.938424   53.050835   \n",
              "3      28.337118     1.218588   34.770935    -3.580352   50.836224   \n",
              "4      45.880913     1.689446   51.363583    -3.392489   26.738789   \n",
              "...          ...          ...         ...          ...         ...   \n",
              "9985   38.326839    -4.246976   31.049839    -5.625813   48.804092   \n",
              "9986   66.418587    -3.081278   54.414265   -11.960546   63.452255   \n",
              "9987   21.778994     4.809936   25.980829     1.775686   48.582378   \n",
              "9988   17.209942     6.462601   21.442928     2.354765   24.843613   \n",
              "9989   58.983097    -0.178517   55.761299    -6.903252   39.485901   \n",
              "\n",
              "      mfcc20_mean  mfcc20_var  label  \n",
              "0       -0.243027   43.771767  blues  \n",
              "1        5.784063   59.943081  blues  \n",
              "2        2.517375   33.105122  blues  \n",
              "3        3.630866   32.023678  blues  \n",
              "4        0.536961   29.146694  blues  \n",
              "...           ...         ...    ...  \n",
              "9985     1.818823   38.966969   rock  \n",
              "9986     0.428857   18.697033   rock  \n",
              "9987    -0.299545   41.586990   rock  \n",
              "9988     0.675824   12.787750   rock  \n",
              "9989    -3.412534   31.727489   rock  \n",
              "\n",
              "[9990 rows x 59 columns]"
            ],
            "text/html": [
              "\n",
              "  <div id=\"df-dbd59560-b469-4b73-bda0-f0410a182e2f\">\n",
              "    <div class=\"colab-df-container\">\n",
              "      <div>\n",
              "<style scoped>\n",
              "    .dataframe tbody tr th:only-of-type {\n",
              "        vertical-align: middle;\n",
              "    }\n",
              "\n",
              "    .dataframe tbody tr th {\n",
              "        vertical-align: top;\n",
              "    }\n",
              "\n",
              "    .dataframe thead th {\n",
              "        text-align: right;\n",
              "    }\n",
              "</style>\n",
              "<table border=\"1\" class=\"dataframe\">\n",
              "  <thead>\n",
              "    <tr style=\"text-align: right;\">\n",
              "      <th></th>\n",
              "      <th>length</th>\n",
              "      <th>chroma_stft_mean</th>\n",
              "      <th>chroma_stft_var</th>\n",
              "      <th>rms_mean</th>\n",
              "      <th>rms_var</th>\n",
              "      <th>spectral_centroid_mean</th>\n",
              "      <th>spectral_centroid_var</th>\n",
              "      <th>spectral_bandwidth_mean</th>\n",
              "      <th>spectral_bandwidth_var</th>\n",
              "      <th>rolloff_mean</th>\n",
              "      <th>...</th>\n",
              "      <th>mfcc16_var</th>\n",
              "      <th>mfcc17_mean</th>\n",
              "      <th>mfcc17_var</th>\n",
              "      <th>mfcc18_mean</th>\n",
              "      <th>mfcc18_var</th>\n",
              "      <th>mfcc19_mean</th>\n",
              "      <th>mfcc19_var</th>\n",
              "      <th>mfcc20_mean</th>\n",
              "      <th>mfcc20_var</th>\n",
              "      <th>label</th>\n",
              "    </tr>\n",
              "  </thead>\n",
              "  <tbody>\n",
              "    <tr>\n",
              "      <th>0</th>\n",
              "      <td>66149</td>\n",
              "      <td>0.335406</td>\n",
              "      <td>0.091048</td>\n",
              "      <td>0.130405</td>\n",
              "      <td>0.003521</td>\n",
              "      <td>1773.065032</td>\n",
              "      <td>167541.63090</td>\n",
              "      <td>1972.744388</td>\n",
              "      <td>117335.77160</td>\n",
              "      <td>3714.560359</td>\n",
              "      <td>...</td>\n",
              "      <td>39.687145</td>\n",
              "      <td>-3.241280</td>\n",
              "      <td>36.488243</td>\n",
              "      <td>0.722209</td>\n",
              "      <td>38.099152</td>\n",
              "      <td>-5.050335</td>\n",
              "      <td>33.618073</td>\n",
              "      <td>-0.243027</td>\n",
              "      <td>43.771767</td>\n",
              "      <td>blues</td>\n",
              "    </tr>\n",
              "    <tr>\n",
              "      <th>1</th>\n",
              "      <td>66149</td>\n",
              "      <td>0.343065</td>\n",
              "      <td>0.086147</td>\n",
              "      <td>0.112699</td>\n",
              "      <td>0.001450</td>\n",
              "      <td>1816.693777</td>\n",
              "      <td>90525.69087</td>\n",
              "      <td>2010.051501</td>\n",
              "      <td>65671.87567</td>\n",
              "      <td>3869.682242</td>\n",
              "      <td>...</td>\n",
              "      <td>64.748276</td>\n",
              "      <td>-6.055294</td>\n",
              "      <td>40.677654</td>\n",
              "      <td>0.159015</td>\n",
              "      <td>51.264091</td>\n",
              "      <td>-2.837699</td>\n",
              "      <td>97.030830</td>\n",
              "      <td>5.784063</td>\n",
              "      <td>59.943081</td>\n",
              "      <td>blues</td>\n",
              "    </tr>\n",
              "    <tr>\n",
              "      <th>2</th>\n",
              "      <td>66149</td>\n",
              "      <td>0.346815</td>\n",
              "      <td>0.092243</td>\n",
              "      <td>0.132003</td>\n",
              "      <td>0.004620</td>\n",
              "      <td>1788.539719</td>\n",
              "      <td>111407.43760</td>\n",
              "      <td>2084.565132</td>\n",
              "      <td>75124.92172</td>\n",
              "      <td>3997.639160</td>\n",
              "      <td>...</td>\n",
              "      <td>67.336563</td>\n",
              "      <td>-1.768610</td>\n",
              "      <td>28.348579</td>\n",
              "      <td>2.378768</td>\n",
              "      <td>45.717648</td>\n",
              "      <td>-1.938424</td>\n",
              "      <td>53.050835</td>\n",
              "      <td>2.517375</td>\n",
              "      <td>33.105122</td>\n",
              "      <td>blues</td>\n",
              "    </tr>\n",
              "    <tr>\n",
              "      <th>3</th>\n",
              "      <td>66149</td>\n",
              "      <td>0.363639</td>\n",
              "      <td>0.086856</td>\n",
              "      <td>0.132565</td>\n",
              "      <td>0.002448</td>\n",
              "      <td>1655.289045</td>\n",
              "      <td>111952.28450</td>\n",
              "      <td>1960.039988</td>\n",
              "      <td>82913.63927</td>\n",
              "      <td>3568.300218</td>\n",
              "      <td>...</td>\n",
              "      <td>47.739452</td>\n",
              "      <td>-3.841155</td>\n",
              "      <td>28.337118</td>\n",
              "      <td>1.218588</td>\n",
              "      <td>34.770935</td>\n",
              "      <td>-3.580352</td>\n",
              "      <td>50.836224</td>\n",
              "      <td>3.630866</td>\n",
              "      <td>32.023678</td>\n",
              "      <td>blues</td>\n",
              "    </tr>\n",
              "    <tr>\n",
              "      <th>4</th>\n",
              "      <td>66149</td>\n",
              "      <td>0.335579</td>\n",
              "      <td>0.088129</td>\n",
              "      <td>0.143289</td>\n",
              "      <td>0.001701</td>\n",
              "      <td>1630.656199</td>\n",
              "      <td>79667.26765</td>\n",
              "      <td>1948.503884</td>\n",
              "      <td>60204.02027</td>\n",
              "      <td>3469.992864</td>\n",
              "      <td>...</td>\n",
              "      <td>30.336359</td>\n",
              "      <td>0.664582</td>\n",
              "      <td>45.880913</td>\n",
              "      <td>1.689446</td>\n",
              "      <td>51.363583</td>\n",
              "      <td>-3.392489</td>\n",
              "      <td>26.738789</td>\n",
              "      <td>0.536961</td>\n",
              "      <td>29.146694</td>\n",
              "      <td>blues</td>\n",
              "    </tr>\n",
              "    <tr>\n",
              "      <th>...</th>\n",
              "      <td>...</td>\n",
              "      <td>...</td>\n",
              "      <td>...</td>\n",
              "      <td>...</td>\n",
              "      <td>...</td>\n",
              "      <td>...</td>\n",
              "      <td>...</td>\n",
              "      <td>...</td>\n",
              "      <td>...</td>\n",
              "      <td>...</td>\n",
              "      <td>...</td>\n",
              "      <td>...</td>\n",
              "      <td>...</td>\n",
              "      <td>...</td>\n",
              "      <td>...</td>\n",
              "      <td>...</td>\n",
              "      <td>...</td>\n",
              "      <td>...</td>\n",
              "      <td>...</td>\n",
              "      <td>...</td>\n",
              "      <td>...</td>\n",
              "    </tr>\n",
              "    <tr>\n",
              "      <th>9985</th>\n",
              "      <td>66149</td>\n",
              "      <td>0.349126</td>\n",
              "      <td>0.080515</td>\n",
              "      <td>0.050019</td>\n",
              "      <td>0.000097</td>\n",
              "      <td>1499.083005</td>\n",
              "      <td>164266.88640</td>\n",
              "      <td>1718.707215</td>\n",
              "      <td>85931.57452</td>\n",
              "      <td>3015.559458</td>\n",
              "      <td>...</td>\n",
              "      <td>42.485981</td>\n",
              "      <td>-9.094270</td>\n",
              "      <td>38.326839</td>\n",
              "      <td>-4.246976</td>\n",
              "      <td>31.049839</td>\n",
              "      <td>-5.625813</td>\n",
              "      <td>48.804092</td>\n",
              "      <td>1.818823</td>\n",
              "      <td>38.966969</td>\n",
              "      <td>rock</td>\n",
              "    </tr>\n",
              "    <tr>\n",
              "      <th>9986</th>\n",
              "      <td>66149</td>\n",
              "      <td>0.372564</td>\n",
              "      <td>0.082626</td>\n",
              "      <td>0.057897</td>\n",
              "      <td>0.000088</td>\n",
              "      <td>1847.965128</td>\n",
              "      <td>281054.93600</td>\n",
              "      <td>1906.468492</td>\n",
              "      <td>99727.03705</td>\n",
              "      <td>3746.694524</td>\n",
              "      <td>...</td>\n",
              "      <td>32.415203</td>\n",
              "      <td>-12.375726</td>\n",
              "      <td>66.418587</td>\n",
              "      <td>-3.081278</td>\n",
              "      <td>54.414265</td>\n",
              "      <td>-11.960546</td>\n",
              "      <td>63.452255</td>\n",
              "      <td>0.428857</td>\n",
              "      <td>18.697033</td>\n",
              "      <td>rock</td>\n",
              "    </tr>\n",
              "    <tr>\n",
              "      <th>9987</th>\n",
              "      <td>66149</td>\n",
              "      <td>0.347481</td>\n",
              "      <td>0.089019</td>\n",
              "      <td>0.052403</td>\n",
              "      <td>0.000701</td>\n",
              "      <td>1346.157659</td>\n",
              "      <td>662956.24630</td>\n",
              "      <td>1561.859087</td>\n",
              "      <td>138762.84190</td>\n",
              "      <td>2442.362154</td>\n",
              "      <td>...</td>\n",
              "      <td>78.228149</td>\n",
              "      <td>-2.524483</td>\n",
              "      <td>21.778994</td>\n",
              "      <td>4.809936</td>\n",
              "      <td>25.980829</td>\n",
              "      <td>1.775686</td>\n",
              "      <td>48.582378</td>\n",
              "      <td>-0.299545</td>\n",
              "      <td>41.586990</td>\n",
              "      <td>rock</td>\n",
              "    </tr>\n",
              "    <tr>\n",
              "      <th>9988</th>\n",
              "      <td>66149</td>\n",
              "      <td>0.387527</td>\n",
              "      <td>0.084815</td>\n",
              "      <td>0.066430</td>\n",
              "      <td>0.000320</td>\n",
              "      <td>2084.515327</td>\n",
              "      <td>203891.03920</td>\n",
              "      <td>2018.366254</td>\n",
              "      <td>22860.99256</td>\n",
              "      <td>4313.266226</td>\n",
              "      <td>...</td>\n",
              "      <td>28.323744</td>\n",
              "      <td>-5.363541</td>\n",
              "      <td>17.209942</td>\n",
              "      <td>6.462601</td>\n",
              "      <td>21.442928</td>\n",
              "      <td>2.354765</td>\n",
              "      <td>24.843613</td>\n",
              "      <td>0.675824</td>\n",
              "      <td>12.787750</td>\n",
              "      <td>rock</td>\n",
              "    </tr>\n",
              "    <tr>\n",
              "      <th>9989</th>\n",
              "      <td>66149</td>\n",
              "      <td>0.369293</td>\n",
              "      <td>0.086759</td>\n",
              "      <td>0.050524</td>\n",
              "      <td>0.000067</td>\n",
              "      <td>1634.330126</td>\n",
              "      <td>411429.16980</td>\n",
              "      <td>1867.422378</td>\n",
              "      <td>119722.21150</td>\n",
              "      <td>3462.042142</td>\n",
              "      <td>...</td>\n",
              "      <td>38.801735</td>\n",
              "      <td>-11.598399</td>\n",
              "      <td>58.983097</td>\n",
              "      <td>-0.178517</td>\n",
              "      <td>55.761299</td>\n",
              "      <td>-6.903252</td>\n",
              "      <td>39.485901</td>\n",
              "      <td>-3.412534</td>\n",
              "      <td>31.727489</td>\n",
              "      <td>rock</td>\n",
              "    </tr>\n",
              "  </tbody>\n",
              "</table>\n",
              "<p>9990 rows × 59 columns</p>\n",
              "</div>\n",
              "      <button class=\"colab-df-convert\" onclick=\"convertToInteractive('df-dbd59560-b469-4b73-bda0-f0410a182e2f')\"\n",
              "              title=\"Convert this dataframe to an interactive table.\"\n",
              "              style=\"display:none;\">\n",
              "        \n",
              "  <svg xmlns=\"http://www.w3.org/2000/svg\" height=\"24px\"viewBox=\"0 0 24 24\"\n",
              "       width=\"24px\">\n",
              "    <path d=\"M0 0h24v24H0V0z\" fill=\"none\"/>\n",
              "    <path d=\"M18.56 5.44l.94 2.06.94-2.06 2.06-.94-2.06-.94-.94-2.06-.94 2.06-2.06.94zm-11 1L8.5 8.5l.94-2.06 2.06-.94-2.06-.94L8.5 2.5l-.94 2.06-2.06.94zm10 10l.94 2.06.94-2.06 2.06-.94-2.06-.94-.94-2.06-.94 2.06-2.06.94z\"/><path d=\"M17.41 7.96l-1.37-1.37c-.4-.4-.92-.59-1.43-.59-.52 0-1.04.2-1.43.59L10.3 9.45l-7.72 7.72c-.78.78-.78 2.05 0 2.83L4 21.41c.39.39.9.59 1.41.59.51 0 1.02-.2 1.41-.59l7.78-7.78 2.81-2.81c.8-.78.8-2.07 0-2.86zM5.41 20L4 18.59l7.72-7.72 1.47 1.35L5.41 20z\"/>\n",
              "  </svg>\n",
              "      </button>\n",
              "      \n",
              "  <style>\n",
              "    .colab-df-container {\n",
              "      display:flex;\n",
              "      flex-wrap:wrap;\n",
              "      gap: 12px;\n",
              "    }\n",
              "\n",
              "    .colab-df-convert {\n",
              "      background-color: #E8F0FE;\n",
              "      border: none;\n",
              "      border-radius: 50%;\n",
              "      cursor: pointer;\n",
              "      display: none;\n",
              "      fill: #1967D2;\n",
              "      height: 32px;\n",
              "      padding: 0 0 0 0;\n",
              "      width: 32px;\n",
              "    }\n",
              "\n",
              "    .colab-df-convert:hover {\n",
              "      background-color: #E2EBFA;\n",
              "      box-shadow: 0px 1px 2px rgba(60, 64, 67, 0.3), 0px 1px 3px 1px rgba(60, 64, 67, 0.15);\n",
              "      fill: #174EA6;\n",
              "    }\n",
              "\n",
              "    [theme=dark] .colab-df-convert {\n",
              "      background-color: #3B4455;\n",
              "      fill: #D2E3FC;\n",
              "    }\n",
              "\n",
              "    [theme=dark] .colab-df-convert:hover {\n",
              "      background-color: #434B5C;\n",
              "      box-shadow: 0px 1px 3px 1px rgba(0, 0, 0, 0.15);\n",
              "      filter: drop-shadow(0px 1px 2px rgba(0, 0, 0, 0.3));\n",
              "      fill: #FFFFFF;\n",
              "    }\n",
              "  </style>\n",
              "\n",
              "      <script>\n",
              "        const buttonEl =\n",
              "          document.querySelector('#df-dbd59560-b469-4b73-bda0-f0410a182e2f button.colab-df-convert');\n",
              "        buttonEl.style.display =\n",
              "          google.colab.kernel.accessAllowed ? 'block' : 'none';\n",
              "\n",
              "        async function convertToInteractive(key) {\n",
              "          const element = document.querySelector('#df-dbd59560-b469-4b73-bda0-f0410a182e2f');\n",
              "          const dataTable =\n",
              "            await google.colab.kernel.invokeFunction('convertToInteractive',\n",
              "                                                     [key], {});\n",
              "          if (!dataTable) return;\n",
              "\n",
              "          const docLinkHtml = 'Like what you see? Visit the ' +\n",
              "            '<a target=\"_blank\" href=https://colab.research.google.com/notebooks/data_table.ipynb>data table notebook</a>'\n",
              "            + ' to learn more about interactive tables.';\n",
              "          element.innerHTML = '';\n",
              "          dataTable['output_type'] = 'display_data';\n",
              "          await google.colab.output.renderOutput(dataTable, element);\n",
              "          const docLink = document.createElement('div');\n",
              "          docLink.innerHTML = docLinkHtml;\n",
              "          element.appendChild(docLink);\n",
              "        }\n",
              "      </script>\n",
              "    </div>\n",
              "  </div>\n",
              "  "
            ]
          },
          "metadata": {},
          "execution_count": 11
        }
      ]
    },
    {
      "cell_type": "code",
      "source": [
        "df.describe"
      ],
      "metadata": {
        "id": "1cBV7dGdsJLz",
        "colab": {
          "base_uri": "https://localhost:8080/"
        },
        "outputId": "a0d25fa9-0a9d-480e-a86f-5946dc68bf9b"
      },
      "execution_count": null,
      "outputs": [
        {
          "output_type": "execute_result",
          "data": {
            "text/plain": [
              "<bound method NDFrame.describe of       length  chroma_stft_mean  chroma_stft_var  rms_mean   rms_var  \\\n",
              "0      66149          0.335406         0.091048  0.130405  0.003521   \n",
              "1      66149          0.343065         0.086147  0.112699  0.001450   \n",
              "2      66149          0.346815         0.092243  0.132003  0.004620   \n",
              "3      66149          0.363639         0.086856  0.132565  0.002448   \n",
              "4      66149          0.335579         0.088129  0.143289  0.001701   \n",
              "...      ...               ...              ...       ...       ...   \n",
              "9985   66149          0.349126         0.080515  0.050019  0.000097   \n",
              "9986   66149          0.372564         0.082626  0.057897  0.000088   \n",
              "9987   66149          0.347481         0.089019  0.052403  0.000701   \n",
              "9988   66149          0.387527         0.084815  0.066430  0.000320   \n",
              "9989   66149          0.369293         0.086759  0.050524  0.000067   \n",
              "\n",
              "      spectral_centroid_mean  spectral_centroid_var  spectral_bandwidth_mean  \\\n",
              "0                1773.065032           167541.63090              1972.744388   \n",
              "1                1816.693777            90525.69087              2010.051501   \n",
              "2                1788.539719           111407.43760              2084.565132   \n",
              "3                1655.289045           111952.28450              1960.039988   \n",
              "4                1630.656199            79667.26765              1948.503884   \n",
              "...                      ...                    ...                      ...   \n",
              "9985             1499.083005           164266.88640              1718.707215   \n",
              "9986             1847.965128           281054.93600              1906.468492   \n",
              "9987             1346.157659           662956.24630              1561.859087   \n",
              "9988             2084.515327           203891.03920              2018.366254   \n",
              "9989             1634.330126           411429.16980              1867.422378   \n",
              "\n",
              "      spectral_bandwidth_var  rolloff_mean  ...  mfcc16_var  mfcc17_mean  \\\n",
              "0               117335.77160   3714.560359  ...   39.687145    -3.241280   \n",
              "1                65671.87567   3869.682242  ...   64.748276    -6.055294   \n",
              "2                75124.92172   3997.639160  ...   67.336563    -1.768610   \n",
              "3                82913.63927   3568.300218  ...   47.739452    -3.841155   \n",
              "4                60204.02027   3469.992864  ...   30.336359     0.664582   \n",
              "...                      ...           ...  ...         ...          ...   \n",
              "9985             85931.57452   3015.559458  ...   42.485981    -9.094270   \n",
              "9986             99727.03705   3746.694524  ...   32.415203   -12.375726   \n",
              "9987            138762.84190   2442.362154  ...   78.228149    -2.524483   \n",
              "9988             22860.99256   4313.266226  ...   28.323744    -5.363541   \n",
              "9989            119722.21150   3462.042142  ...   38.801735   -11.598399   \n",
              "\n",
              "      mfcc17_var  mfcc18_mean  mfcc18_var  mfcc19_mean  mfcc19_var  \\\n",
              "0      36.488243     0.722209   38.099152    -5.050335   33.618073   \n",
              "1      40.677654     0.159015   51.264091    -2.837699   97.030830   \n",
              "2      28.348579     2.378768   45.717648    -1.938424   53.050835   \n",
              "3      28.337118     1.218588   34.770935    -3.580352   50.836224   \n",
              "4      45.880913     1.689446   51.363583    -3.392489   26.738789   \n",
              "...          ...          ...         ...          ...         ...   \n",
              "9985   38.326839    -4.246976   31.049839    -5.625813   48.804092   \n",
              "9986   66.418587    -3.081278   54.414265   -11.960546   63.452255   \n",
              "9987   21.778994     4.809936   25.980829     1.775686   48.582378   \n",
              "9988   17.209942     6.462601   21.442928     2.354765   24.843613   \n",
              "9989   58.983097    -0.178517   55.761299    -6.903252   39.485901   \n",
              "\n",
              "      mfcc20_mean  mfcc20_var  label  \n",
              "0       -0.243027   43.771767  blues  \n",
              "1        5.784063   59.943081  blues  \n",
              "2        2.517375   33.105122  blues  \n",
              "3        3.630866   32.023678  blues  \n",
              "4        0.536961   29.146694  blues  \n",
              "...           ...         ...    ...  \n",
              "9985     1.818823   38.966969   rock  \n",
              "9986     0.428857   18.697033   rock  \n",
              "9987    -0.299545   41.586990   rock  \n",
              "9988     0.675824   12.787750   rock  \n",
              "9989    -3.412534   31.727489   rock  \n",
              "\n",
              "[9990 rows x 59 columns]>"
            ]
          },
          "metadata": {},
          "execution_count": 12
        }
      ]
    },
    {
      "cell_type": "code",
      "source": [
        "df.shape"
      ],
      "metadata": {
        "id": "RWee_04RPi3m",
        "colab": {
          "base_uri": "https://localhost:8080/"
        },
        "outputId": "67e31ab8-e67c-4a01-c6aa-768918fa6466"
      },
      "execution_count": null,
      "outputs": [
        {
          "output_type": "execute_result",
          "data": {
            "text/plain": [
              "(9990, 59)"
            ]
          },
          "metadata": {},
          "execution_count": 13
        }
      ]
    },
    {
      "cell_type": "code",
      "source": [
        "sns.boxplot(x=\"label\", y=\"tempo\",data=df)"
      ],
      "metadata": {
        "id": "zXEhfwUcPknl",
        "colab": {
          "base_uri": "https://localhost:8080/",
          "height": 300
        },
        "outputId": "d4d94bd9-2eb2-42cc-ea94-72d1b5efeab1"
      },
      "execution_count": null,
      "outputs": [
        {
          "output_type": "execute_result",
          "data": {
            "text/plain": [
              "<matplotlib.axes._subplots.AxesSubplot at 0x7fb80e259fd0>"
            ]
          },
          "metadata": {},
          "execution_count": 26
        },
        {
          "output_type": "display_data",
          "data": {
            "text/plain": [
              "<Figure size 432x288 with 1 Axes>"
            ],
            "image/png": "[encoded data removed]"
          },
          "metadata": {
            "needs_background": "light"
          }
        }
      ]
    },
    {
      "cell_type": "code",
      "source": [
        "X = df.drop('label',axis=1)\n",
        "y = df['label']"
      ],
      "metadata": {
        "id": "Wse-jXuzPnZZ"
      },
      "execution_count": null,
      "outputs": []
    },
    {
      "cell_type": "code",
      "source": [
        "sns.boxplot(x='label', y='tempo', data=df, notch=True)\n",
        "sns.stripplot(x='label', y='tempo', data=df)"
      ],
      "metadata": {
        "id": "SZdTJsvcPpRU",
        "colab": {
          "base_uri": "https://localhost:8080/",
          "height": 300
        },
        "outputId": "c9074334-b99f-4d40-9430-119706439b30"
      },
      "execution_count": null,
      "outputs": [
        {
          "output_type": "execute_result",
          "data": {
            "text/plain": [
              "<matplotlib.axes._subplots.AxesSubplot at 0x7fb810c6a950>"
            ]
          },
          "metadata": {},
          "execution_count": 16
        },
        {
          "output_type": "display_data",
          "data": {
            "text/plain": [
              "<Figure size 432x288 with 1 Axes>"
            ],
            "image/png": "[encoded data removed]"
          },
          "metadata": {
            "needs_background": "light"
          }
        }
      ]
    },
    {
      "cell_type": "code",
      "source": [
        "x = df.iloc[:, :-1].values\n",
        "y = df.iloc[:, -1].values"
      ],
      "metadata": {
        "id": "46AnNx9gQq5o"
      },
      "execution_count": null,
      "outputs": []
    },
    {
      "cell_type": "code",
      "source": [
        "x_train, x_test, y_train, y_test = train_test_split(x, y, test_size = 0.25, random_state = 0)"
      ],
      "metadata": {
        "id": "BgEyc5EtQxf9"
      },
      "execution_count": null,
      "outputs": []
    },
    {
      "cell_type": "code",
      "source": [
        "sc = StandardScaler()\n",
        "x_train = sc.fit_transform(x_train)\n",
        "x_test = sc.transform(x_test)"
      ],
      "metadata": {
        "id": "Q3Ko0qmkQ8rR"
      },
      "execution_count": null,
      "outputs": []
    },
    {
      "cell_type": "code",
      "source": [
        "classifier = LogisticRegression(random_state = 0)\n",
        "classifier.fit(x_train, y_train)"
      ],
      "metadata": {
        "colab": {
          "base_uri": "https://localhost:8080/"
        },
        "id": "ukxrmd5gRFk4",
        "outputId": "2eb27b61-7685-46ea-a1b7-ef6ed7321123"
      },
      "execution_count": null,
      "outputs": [
        {
          "output_type": "stream",
          "name": "stderr",
          "text": [
            "/usr/local/lib/python3.7/dist-packages/sklearn/linear_model/_logistic.py:818: ConvergenceWarning: lbfgs failed to converge (status=1):\n",
            "STOP: TOTAL NO. of ITERATIONS REACHED LIMIT.\n",
            "\n",
            "Increase the number of iterations (max_iter) or scale the data as shown in:\n",
            "    https://scikit-learn.org/stable/modules/preprocessing.html\n",
            "Please also refer to the documentation for alternative solver options:\n",
            "    https://scikit-learn.org/stable/modules/linear_model.html#logistic-regression\n",
            "  extra_warning_msg=_LOGISTIC_SOLVER_CONVERGENCE_MSG,\n"
          ]
        },
        {
          "output_type": "execute_result",
          "data": {
            "text/plain": [
              "LogisticRegression(random_state=0)"
            ]
          },
          "metadata": {},
          "execution_count": 22
        }
      ]
    },
    {
      "cell_type": "code",
      "source": [
        "y_pred = classifier.predict(x_test)\n",
        "y_pred"
      ],
      "metadata": {
        "colab": {
          "base_uri": "https://localhost:8080/"
        },
        "id": "A35aSCC-RSOZ",
        "outputId": "fff1e87f-d49e-4096-fd50-d1bb8ced2b14"
      },
      "execution_count": null,
      "outputs": [
        {
          "output_type": "execute_result",
          "data": {
            "text/plain": [
              "array(['reggae', 'pop', 'rock', ..., 'rock', 'blues', 'disco'],\n",
              "      dtype=object)"
            ]
          },
          "metadata": {},
          "execution_count": 23
        }
      ]
    },
    {
      "cell_type": "code",
      "source": [
        "from sklearn.metrics import confusion_matrix, accuracy_score\n",
        "cm = confusion_matrix(y_test, y_pred)\n",
        "print(cm)\n",
        "accuracy_score(y_test, y_pred)"
      ],
      "metadata": {
        "colab": {
          "base_uri": "https://localhost:8080/"
        },
        "id": "Z412hGACRVm5",
        "outputId": "4a84629f-9498-4e7f-9b1e-500e3a9d074b"
      },
      "execution_count": null,
      "outputs": [
        {
          "output_type": "stream",
          "name": "stdout",
          "text": [
            "[[188   0  11   3   3  10   9   0   6   6]\n",
            " [  2 234   4   0   0   6   0   0   0   1]\n",
            " [ 20   0 155   6   5  14   4   4   7  48]\n",
            " [  6   1  11 148  14   3   8   9   8  21]\n",
            " [ 11   1   3  15 173   1  14  16  24   4]\n",
            " [  6  15  11   1   1 199   0   2   7   9]\n",
            " [  6   0   4   5   5   1 216   0   1  21]\n",
            " [  0   2  14   8   7   2   0 191  11   7]\n",
            " [ 12   1  12  10  30   4   0  13 177   6]\n",
            " [ 19   0  20  19   9  11  10  10   9 137]]\n"
          ]
        },
        {
          "output_type": "execute_result",
          "data": {
            "text/plain": [
              "0.7277822257806245"
            ]
          },
          "metadata": {},
          "execution_count": 24
        }
      ]
    },
    {
      "cell_type": "code",
      "source": [
        "from google.colab import drive\n",
        "drive.mount('/content/drive')"
      ],
      "metadata": {
        "colab": {
          "base_uri": "https://localhost:8080/"
        },
        "id": "cqh6ipfhRoo7",
        "outputId": "cf6ce184-cad2-49d3-a280-2f49d8cf37e5"
      },
      "execution_count": null,
      "outputs": [
        {
          "output_type": "stream",
          "name": "stdout",
          "text": [
            "Mounted at /content/drive\n"
          ]
        }
      ]
    }
  ]
}