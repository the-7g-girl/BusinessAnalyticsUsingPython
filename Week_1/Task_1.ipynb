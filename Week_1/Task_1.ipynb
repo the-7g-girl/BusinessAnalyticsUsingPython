{
  "nbformat": 4,
  "nbformat_minor": 0,
  "metadata": {
    "colab": {
      "provenance": []
    },
    "kernelspec": {
      "name": "python3",
      "display_name": "Python 3"
    },
    "language_info": {
      "name": "python"
    }
  },
  "cells": [
    {
      "cell_type": "code",
      "execution_count": 1,
      "metadata": {
        "colab": {
          "base_uri": "https://localhost:8080/"
        },
        "id": "SVE6qTJV2d0q",
        "outputId": "b9616842-415b-4b98-ca76-a766ca2de5c3"
      },
      "outputs": [
        {
          "output_type": "execute_result",
          "data": {
            "text/plain": [
              "array([[ 1,  2,  3,  4,  5,  6,  7,  8],\n",
              "       [ 9, 10, 11, 12, 13, 14, 15, 16]])"
            ]
          },
          "metadata": {},
          "execution_count": 1
        }
      ],
      "source": [
        "import numpy as np\n",
        "A = np.array([ [1,2,3,4],[5,6,7,8],[9,10,11,12],[13,14,15,16]])\n",
        "A.transpose()\n",
        "A.reshape(2,8)"
      ]
    }
  ]
}